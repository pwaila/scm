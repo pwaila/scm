{
  "nbformat": 4,
  "nbformat_minor": 0,
  "metadata": {
    "colab": {
      "name": "case_study.ipynb",
      "version": "0.3.2",
      "provenance": [],
      "include_colab_link": true
    },
    "kernelspec": {
      "name": "python3",
      "display_name": "Python 3"
    }
  },
  "cells": [
    {
      "cell_type": "markdown",
      "metadata": {
        "id": "view-in-github",
        "colab_type": "text"
      },
      "source": [
        "<a href=\"https://colab.research.google.com/github/pwaila/scm/blob/master/case_study.ipynb\" target=\"_parent\"><img src=\"https://colab.research.google.com/assets/colab-badge.svg\" alt=\"Open In Colab\"/></a>"
      ]
    },
    {
      "cell_type": "code",
      "metadata": {
        "id": "mpe3AUL8uxiy",
        "colab_type": "code",
        "colab": {
          "base_uri": "https://localhost:8080/",
          "height": 122
        },
        "outputId": "5fe7dc25-36cf-4ba6-87b1-b57640f171ad"
      },
      "source": [
        "import pandas as pd\n",
        "from google.colab import drive\n",
        "drive.mount('/content/gdrive')"
      ],
      "execution_count": 1,
      "outputs": [
        {
          "output_type": "stream",
          "text": [
            "Go to this URL in a browser: https://accounts.google.com/o/oauth2/auth?client_id=947318989803-6bn6qk8qdgf4n4g3pfee6491hc0brc4i.apps.googleusercontent.com&redirect_uri=urn%3Aietf%3Awg%3Aoauth%3A2.0%3Aoob&scope=email%20https%3A%2F%2Fwww.googleapis.com%2Fauth%2Fdocs.test%20https%3A%2F%2Fwww.googleapis.com%2Fauth%2Fdrive%20https%3A%2F%2Fwww.googleapis.com%2Fauth%2Fdrive.photos.readonly%20https%3A%2F%2Fwww.googleapis.com%2Fauth%2Fpeopleapi.readonly&response_type=code\n",
            "\n",
            "Enter your authorization code:\n",
            "··········\n",
            "Mounted at /content/gdrive\n"
          ],
          "name": "stdout"
        }
      ]
    },
    {
      "cell_type": "code",
      "metadata": {
        "id": "7FsJzIFGu435",
        "colab_type": "code",
        "colab": {}
      },
      "source": [
        "data=pd.read_excel(\"gdrive/My Drive/Supply chain/KEL944-XLS-ENG.xlsx\",sheet_name='Data')"
      ],
      "execution_count": 0,
      "outputs": []
    },
    {
      "cell_type": "code",
      "metadata": {
        "id": "AOwnzt6ywX2l",
        "colab_type": "code",
        "colab": {
          "base_uri": "https://localhost:8080/",
          "height": 326
        },
        "outputId": "4ae6b1ac-42f8-4704-9274-10f605b6c665"
      },
      "source": [
        "data.head()"
      ],
      "execution_count": 9,
      "outputs": [
        {
          "output_type": "execute_result",
          "data": {
            "text/html": [
              "<div>\n",
              "<style scoped>\n",
              "    .dataframe tbody tr th:only-of-type {\n",
              "        vertical-align: middle;\n",
              "    }\n",
              "\n",
              "    .dataframe tbody tr th {\n",
              "        vertical-align: top;\n",
              "    }\n",
              "\n",
              "    .dataframe thead th {\n",
              "        text-align: right;\n",
              "    }\n",
              "</style>\n",
              "<table border=\"1\" class=\"dataframe\">\n",
              "  <thead>\n",
              "    <tr style=\"text-align: right;\">\n",
              "      <th></th>\n",
              "      <th>shift</th>\n",
              "      <th>weekday</th>\n",
              "      <th>shift type</th>\n",
              "      <th>shift 1</th>\n",
              "      <th>shift 2</th>\n",
              "      <th>shift 3</th>\n",
              "      <th>shift 4</th>\n",
              "      <th>shift 5</th>\n",
              "      <th>throughput</th>\n",
              "      <th>delta throughput</th>\n",
              "      <th>MPT</th>\n",
              "      <th>thickness 1</th>\n",
              "      <th>thickness 2</th>\n",
              "      <th>thickness 3</th>\n",
              "      <th>width 1</th>\n",
              "      <th>width 2</th>\n",
              "      <th>width 3</th>\n",
              "      <th>grade 1</th>\n",
              "      <th>grade 2</th>\n",
              "      <th>grade 3</th>\n",
              "      <th>grade 4</th>\n",
              "      <th>grade 5</th>\n",
              "      <th>grade rest</th>\n",
              "      <th>RTR</th>\n",
              "    </tr>\n",
              "  </thead>\n",
              "  <tbody>\n",
              "    <tr>\n",
              "      <th>0</th>\n",
              "      <td>01.10.13 22:00:00</td>\n",
              "      <td>Tue</td>\n",
              "      <td>N</td>\n",
              "      <td>1</td>\n",
              "      <td>0</td>\n",
              "      <td>0</td>\n",
              "      <td>0</td>\n",
              "      <td>0</td>\n",
              "      <td>742.99</td>\n",
              "      <td>178.99</td>\n",
              "      <td>34.383428</td>\n",
              "      <td>19</td>\n",
              "      <td>15</td>\n",
              "      <td>0</td>\n",
              "      <td>3</td>\n",
              "      <td>17</td>\n",
              "      <td>14</td>\n",
              "      <td>0.0</td>\n",
              "      <td>0.000000</td>\n",
              "      <td>29.411765</td>\n",
              "      <td>0.0</td>\n",
              "      <td>8.823529</td>\n",
              "      <td>61.764706</td>\n",
              "      <td>92.708333</td>\n",
              "    </tr>\n",
              "    <tr>\n",
              "      <th>1</th>\n",
              "      <td>02.10.13 06:00:00</td>\n",
              "      <td>Wed</td>\n",
              "      <td>E</td>\n",
              "      <td>0</td>\n",
              "      <td>0</td>\n",
              "      <td>0</td>\n",
              "      <td>0</td>\n",
              "      <td>1</td>\n",
              "      <td>658.06</td>\n",
              "      <td>-93.94</td>\n",
              "      <td>35.639289</td>\n",
              "      <td>17</td>\n",
              "      <td>9</td>\n",
              "      <td>7</td>\n",
              "      <td>5</td>\n",
              "      <td>14</td>\n",
              "      <td>14</td>\n",
              "      <td>0.0</td>\n",
              "      <td>18.181818</td>\n",
              "      <td>3.030303</td>\n",
              "      <td>0.0</td>\n",
              "      <td>0.000000</td>\n",
              "      <td>78.787879</td>\n",
              "      <td>70.000000</td>\n",
              "    </tr>\n",
              "    <tr>\n",
              "      <th>2</th>\n",
              "      <td>02.10.13 14:00:00</td>\n",
              "      <td>Wed</td>\n",
              "      <td>M</td>\n",
              "      <td>0</td>\n",
              "      <td>0</td>\n",
              "      <td>1</td>\n",
              "      <td>0</td>\n",
              "      <td>0</td>\n",
              "      <td>910.51</td>\n",
              "      <td>158.51</td>\n",
              "      <td>36.376705</td>\n",
              "      <td>16</td>\n",
              "      <td>24</td>\n",
              "      <td>0</td>\n",
              "      <td>0</td>\n",
              "      <td>16</td>\n",
              "      <td>24</td>\n",
              "      <td>0.0</td>\n",
              "      <td>0.000000</td>\n",
              "      <td>0.000000</td>\n",
              "      <td>30.0</td>\n",
              "      <td>0.000000</td>\n",
              "      <td>70.000000</td>\n",
              "      <td>96.041667</td>\n",
              "    </tr>\n",
              "    <tr>\n",
              "      <th>3</th>\n",
              "      <td>02.10.13 22:00:00</td>\n",
              "      <td>Wed</td>\n",
              "      <td>N</td>\n",
              "      <td>1</td>\n",
              "      <td>0</td>\n",
              "      <td>0</td>\n",
              "      <td>0</td>\n",
              "      <td>0</td>\n",
              "      <td>762.47</td>\n",
              "      <td>10.47</td>\n",
              "      <td>23.027962</td>\n",
              "      <td>0</td>\n",
              "      <td>40</td>\n",
              "      <td>0</td>\n",
              "      <td>3</td>\n",
              "      <td>17</td>\n",
              "      <td>20</td>\n",
              "      <td>0.0</td>\n",
              "      <td>0.000000</td>\n",
              "      <td>10.000000</td>\n",
              "      <td>52.5</td>\n",
              "      <td>12.500000</td>\n",
              "      <td>25.000000</td>\n",
              "      <td>82.291667</td>\n",
              "    </tr>\n",
              "    <tr>\n",
              "      <th>4</th>\n",
              "      <td>03.10.13 06:00:00</td>\n",
              "      <td>Thu</td>\n",
              "      <td>E</td>\n",
              "      <td>0</td>\n",
              "      <td>1</td>\n",
              "      <td>0</td>\n",
              "      <td>0</td>\n",
              "      <td>0</td>\n",
              "      <td>659.33</td>\n",
              "      <td>-92.67</td>\n",
              "      <td>35.206668</td>\n",
              "      <td>11</td>\n",
              "      <td>25</td>\n",
              "      <td>0</td>\n",
              "      <td>12</td>\n",
              "      <td>18</td>\n",
              "      <td>6</td>\n",
              "      <td>0.0</td>\n",
              "      <td>38.888889</td>\n",
              "      <td>22.222222</td>\n",
              "      <td>0.0</td>\n",
              "      <td>5.555556</td>\n",
              "      <td>33.333333</td>\n",
              "      <td>88.750000</td>\n",
              "    </tr>\n",
              "  </tbody>\n",
              "</table>\n",
              "</div>"
            ],
            "text/plain": [
              "               shift weekday shift type  ...    grade 5  grade rest        RTR\n",
              "0  01.10.13 22:00:00     Tue          N  ...   8.823529   61.764706  92.708333\n",
              "1  02.10.13 06:00:00     Wed          E  ...   0.000000   78.787879  70.000000\n",
              "2  02.10.13 14:00:00     Wed          M  ...   0.000000   70.000000  96.041667\n",
              "3  02.10.13 22:00:00     Wed          N  ...  12.500000   25.000000  82.291667\n",
              "4  03.10.13 06:00:00     Thu          E  ...   5.555556   33.333333  88.750000\n",
              "\n",
              "[5 rows x 24 columns]"
            ]
          },
          "metadata": {
            "tags": []
          },
          "execution_count": 9
        }
      ]
    },
    {
      "cell_type": "code",
      "metadata": {
        "id": "Fl1IJGeCwpwS",
        "colab_type": "code",
        "colab": {}
      },
      "source": [
        "da=data[['shift type','thickness 1','thickness 2','thickness 3']]"
      ],
      "execution_count": 0,
      "outputs": []
    },
    {
      "cell_type": "code",
      "metadata": {
        "id": "TUiyMP9mzdpJ",
        "colab_type": "code",
        "colab": {
          "base_uri": "https://localhost:8080/",
          "height": 34
        },
        "outputId": "051865c6-7635-4147-d23e-bc2940bfe03c"
      },
      "source": [
        "set(data['shift type'])"
      ],
      "execution_count": 25,
      "outputs": [
        {
          "output_type": "execute_result",
          "data": {
            "text/plain": [
              "{'E', 'M', 'N'}"
            ]
          },
          "metadata": {
            "tags": []
          },
          "execution_count": 25
        }
      ]
    },
    {
      "cell_type": "code",
      "metadata": {
        "id": "EhJ-XPszyryP",
        "colab_type": "code",
        "colab": {
          "base_uri": "https://localhost:8080/",
          "height": 1000
        },
        "outputId": "de813cdb-ecde-42a3-9bfd-ff06971fb8a3"
      },
      "source": [
        "da[data['shift type']=='N'].mean"
      ],
      "execution_count": 23,
      "outputs": [
        {
          "output_type": "execute_result",
          "data": {
            "text/plain": [
              "<bound method DataFrame.mean of     shift type  thickness 1  thickness 2  thickness 3\n",
              "0            N           19           15            0\n",
              "3            N            0           40            0\n",
              "6            N            9           34            1\n",
              "9            N           22           16            0\n",
              "12           N            3           44            0\n",
              "14           N           23            8            4\n",
              "17           N            5           48            0\n",
              "21           N           17           15            0\n",
              "24           N           14           33            0\n",
              "27           N           24            8            0\n",
              "30           N           12           21            6\n",
              "33           N           19           14            0\n",
              "37           N           12           32            0\n",
              "40           N            4            1            0\n",
              "42           N           18            7            0\n",
              "45           N            3           23           10\n",
              "48           N           21           15            0\n",
              "51           N           17           20            1\n",
              "55           N            3           43            0\n",
              "58           N           21           16            2\n",
              "61           N           12           28            7\n",
              "64           N            0           54            1\n",
              "67           N            5           42           13\n",
              "70           N            9           32            0\n",
              "74           N           16           27            0\n",
              "77           N           11           28            5\n",
              "80           N           17           19            0\n",
              "83           N            3           13            6\n",
              "86           N            1           35           19\n",
              "89           N           24           17            0\n",
              "..         ...          ...          ...          ...\n",
              "413          N            8           17           12\n",
              "415          N            5           45            3\n",
              "418          N            8           30            0\n",
              "421          N            3           49            0\n",
              "424          N           17           26            2\n",
              "427          N            7           32            0\n",
              "430          N            4           17           25\n",
              "433          N            9           31            0\n",
              "436          N            6           34            0\n",
              "439          N            9           35            1\n",
              "442          N            1           41            0\n",
              "445          N            2           43            4\n",
              "448          N            2           33           14\n",
              "451          N            9           23           10\n",
              "454          N            5           44            0\n",
              "456          N            6           40            1\n",
              "459          N           10           30            3\n",
              "462          N           21            3            0\n",
              "465          N           15           20            0\n",
              "468          N           19           16            0\n",
              "471          N            7           31            2\n",
              "473          N            0           33            6\n",
              "476          N           23            6            0\n",
              "479          N           19           21            0\n",
              "482          N            2           36            9\n",
              "487          N            9           38            0\n",
              "490          N           15           25            0\n",
              "492          N            8           33            0\n",
              "495          N           19           25            0\n",
              "498          N            5           47            0\n",
              "\n",
              "[170 rows x 4 columns]>"
            ]
          },
          "metadata": {
            "tags": []
          },
          "execution_count": 23
        }
      ]
    },
    {
      "cell_type": "code",
      "metadata": {
        "id": "WRBa7EgrzXBS",
        "colab_type": "code",
        "colab": {
          "base_uri": "https://localhost:8080/",
          "height": 1000
        },
        "outputId": "e08a986e-5812-479d-bb0e-c163eac255d0"
      },
      "source": [
        "da[data['shift type']=='M'].mean"
      ],
      "execution_count": 24,
      "outputs": [
        {
          "output_type": "execute_result",
          "data": {
            "text/plain": [
              "<bound method DataFrame.mean of     shift type  thickness 1  thickness 2  thickness 3\n",
              "2            M           16           24            0\n",
              "5            M           18           26            1\n",
              "8            M           22           14            0\n",
              "11           M           26            5            0\n",
              "13           M           14           16            0\n",
              "16           M            3           37            0\n",
              "19           M           24            8            5\n",
              "20           M            7           13            3\n",
              "23           M            2           50            0\n",
              "26           M           16            6           25\n",
              "29           M            7           40            0\n",
              "32           M           19           13            2\n",
              "35           M           17           21            7\n",
              "36           M            5           17           10\n",
              "39           M           19            1            9\n",
              "41           M           19            0            0\n",
              "44           M           20            0           13\n",
              "47           M           15           10            9\n",
              "50           M           12            2           23\n",
              "53           M            4           11           19\n",
              "54           M           21            0            0\n",
              "57           M           12           19            1\n",
              "60           M           16           27            0\n",
              "63           M           17           16            0\n",
              "66           M            3           27            0\n",
              "69           M            0           51            0\n",
              "72           M            5           25           16\n",
              "73           M            0            1           30\n",
              "76           M            5            1            0\n",
              "79           M            2           16            6\n",
              "..         ...          ...          ...          ...\n",
              "412          M           32            3            2\n",
              "414          M            4            3           20\n",
              "417          M           20           20            0\n",
              "420          M            9           39            3\n",
              "423          M            3           34            9\n",
              "426          M           34            0            0\n",
              "429          M            6            7           30\n",
              "432          M            8           17           17\n",
              "435          M           12           27            2\n",
              "438          M           22           11            0\n",
              "441          M           23           11            4\n",
              "444          M           17           15            0\n",
              "447          M            0           46            0\n",
              "450          M            7           25           17\n",
              "453          M            1           32            6\n",
              "458          M           23            3            0\n",
              "461          M           11           37            2\n",
              "464          M           20            4           17\n",
              "467          M           14           35            0\n",
              "470          M            9           12           26\n",
              "472          M            0            9            0\n",
              "475          M           23            1            2\n",
              "478          M            0           15           27\n",
              "481          M           15           26            0\n",
              "484          M           13           31            1\n",
              "486          M            7           34            6\n",
              "489          M           13           37            0\n",
              "491          M            6            8            0\n",
              "494          M           22           10            0\n",
              "497          M            0            1           59\n",
              "\n",
              "[174 rows x 4 columns]>"
            ]
          },
          "metadata": {
            "tags": []
          },
          "execution_count": 24
        }
      ]
    },
    {
      "cell_type": "code",
      "metadata": {
        "id": "lGLRpHvdzi0Y",
        "colab_type": "code",
        "colab": {
          "base_uri": "https://localhost:8080/",
          "height": 1000
        },
        "outputId": "00f015e0-10d0-464a-c755-c02a11e8a206"
      },
      "source": [
        "da[data['shift type']=='E'].mean"
      ],
      "execution_count": 28,
      "outputs": [
        {
          "output_type": "execute_result",
          "data": {
            "text/plain": [
              "<bound method DataFrame.mean of     shift type  thickness 1  thickness 2  thickness 3\n",
              "1            E           17            9            7\n",
              "4            E           11           25            0\n",
              "7            E            5           27            0\n",
              "10           E           11           22            0\n",
              "15           E            3           24            4\n",
              "18           E            2           33            0\n",
              "22           E           12           13           15\n",
              "25           E           37           14            0\n",
              "28           E            9           22            8\n",
              "31           E           13           20            3\n",
              "34           E           12           18            0\n",
              "38           E           11           14            9\n",
              "43           E            4           33            0\n",
              "46           E            4           34            5\n",
              "49           E            6           21            8\n",
              "52           E           25           18            0\n",
              "56           E           22            9            0\n",
              "59           E            9           33            0\n",
              "62           E           10           12           17\n",
              "65           E            1           13            0\n",
              "68           E            7           26           12\n",
              "71           E           32           10            0\n",
              "75           E           18           23            0\n",
              "78           E            7           13            4\n",
              "81           E           19           10            0\n",
              "84           E            3           22           17\n",
              "87           E            9           20           14\n",
              "90           E            0           24            0\n",
              "94           E           22            2            1\n",
              "97           E           14            1           24\n",
              "..         ...          ...          ...          ...\n",
              "408          E           27            4            0\n",
              "411          E            4           17            4\n",
              "416          E            1           43            1\n",
              "419          E            8           26            2\n",
              "422          E            6           15            0\n",
              "425          E           17            6           21\n",
              "428          E            9           22            8\n",
              "431          E           12           27            6\n",
              "434          E            7           28            0\n",
              "437          E           14           27            0\n",
              "440          E           22            4            0\n",
              "443          E           17           24            1\n",
              "446          E            3           30           25\n",
              "449          E            4           29            0\n",
              "452          E            7           18            0\n",
              "455          E           10           25            0\n",
              "457          E            1           36            0\n",
              "460          E            4           46            4\n",
              "463          E           11            6            3\n",
              "466          E            2           17           33\n",
              "469          E           11           26            0\n",
              "474          E            3           32            0\n",
              "477          E           14           16            0\n",
              "480          E           15           20            0\n",
              "483          E            2           53            0\n",
              "485          E           18           20            2\n",
              "488          E           17           18           14\n",
              "493          E           26            9            0\n",
              "496          E            7           33            0\n",
              "499          E            6           22            0\n",
              "\n",
              "[156 rows x 4 columns]>"
            ]
          },
          "metadata": {
            "tags": []
          },
          "execution_count": 28
        }
      ]
    },
    {
      "cell_type": "code",
      "metadata": {
        "id": "KNxeI1M-0Nji",
        "colab_type": "code",
        "colab": {
          "base_uri": "https://localhost:8080/",
          "height": 297
        },
        "outputId": "faa6c37c-9560-440d-b873-b003b14c8746"
      },
      "source": [
        "da[da['shift type']=='N'].describe()"
      ],
      "execution_count": 31,
      "outputs": [
        {
          "output_type": "execute_result",
          "data": {
            "text/html": [
              "<div>\n",
              "<style scoped>\n",
              "    .dataframe tbody tr th:only-of-type {\n",
              "        vertical-align: middle;\n",
              "    }\n",
              "\n",
              "    .dataframe tbody tr th {\n",
              "        vertical-align: top;\n",
              "    }\n",
              "\n",
              "    .dataframe thead th {\n",
              "        text-align: right;\n",
              "    }\n",
              "</style>\n",
              "<table border=\"1\" class=\"dataframe\">\n",
              "  <thead>\n",
              "    <tr style=\"text-align: right;\">\n",
              "      <th></th>\n",
              "      <th>thickness 1</th>\n",
              "      <th>thickness 2</th>\n",
              "      <th>thickness 3</th>\n",
              "    </tr>\n",
              "  </thead>\n",
              "  <tbody>\n",
              "    <tr>\n",
              "      <th>count</th>\n",
              "      <td>170.000000</td>\n",
              "      <td>170.000000</td>\n",
              "      <td>170.000000</td>\n",
              "    </tr>\n",
              "    <tr>\n",
              "      <th>mean</th>\n",
              "      <td>12.252941</td>\n",
              "      <td>24.282353</td>\n",
              "      <td>1.911765</td>\n",
              "    </tr>\n",
              "    <tr>\n",
              "      <th>std</th>\n",
              "      <td>7.869544</td>\n",
              "      <td>12.824820</td>\n",
              "      <td>4.119284</td>\n",
              "    </tr>\n",
              "    <tr>\n",
              "      <th>min</th>\n",
              "      <td>0.000000</td>\n",
              "      <td>0.000000</td>\n",
              "      <td>0.000000</td>\n",
              "    </tr>\n",
              "    <tr>\n",
              "      <th>25%</th>\n",
              "      <td>6.000000</td>\n",
              "      <td>15.000000</td>\n",
              "      <td>0.000000</td>\n",
              "    </tr>\n",
              "    <tr>\n",
              "      <th>50%</th>\n",
              "      <td>12.000000</td>\n",
              "      <td>25.000000</td>\n",
              "      <td>0.000000</td>\n",
              "    </tr>\n",
              "    <tr>\n",
              "      <th>75%</th>\n",
              "      <td>18.000000</td>\n",
              "      <td>33.000000</td>\n",
              "      <td>1.750000</td>\n",
              "    </tr>\n",
              "    <tr>\n",
              "      <th>max</th>\n",
              "      <td>34.000000</td>\n",
              "      <td>54.000000</td>\n",
              "      <td>25.000000</td>\n",
              "    </tr>\n",
              "  </tbody>\n",
              "</table>\n",
              "</div>"
            ],
            "text/plain": [
              "       thickness 1  thickness 2  thickness 3\n",
              "count   170.000000   170.000000   170.000000\n",
              "mean     12.252941    24.282353     1.911765\n",
              "std       7.869544    12.824820     4.119284\n",
              "min       0.000000     0.000000     0.000000\n",
              "25%       6.000000    15.000000     0.000000\n",
              "50%      12.000000    25.000000     0.000000\n",
              "75%      18.000000    33.000000     1.750000\n",
              "max      34.000000    54.000000    25.000000"
            ]
          },
          "metadata": {
            "tags": []
          },
          "execution_count": 31
        }
      ]
    },
    {
      "cell_type": "code",
      "metadata": {
        "id": "S60cFl0U0UkB",
        "colab_type": "code",
        "colab": {
          "base_uri": "https://localhost:8080/",
          "height": 297
        },
        "outputId": "678d835d-aabf-4d64-ebfd-22e759c74272"
      },
      "source": [
        "da[da['shift type']=='M'].describe()"
      ],
      "execution_count": 32,
      "outputs": [
        {
          "output_type": "execute_result",
          "data": {
            "text/html": [
              "<div>\n",
              "<style scoped>\n",
              "    .dataframe tbody tr th:only-of-type {\n",
              "        vertical-align: middle;\n",
              "    }\n",
              "\n",
              "    .dataframe tbody tr th {\n",
              "        vertical-align: top;\n",
              "    }\n",
              "\n",
              "    .dataframe thead th {\n",
              "        text-align: right;\n",
              "    }\n",
              "</style>\n",
              "<table border=\"1\" class=\"dataframe\">\n",
              "  <thead>\n",
              "    <tr style=\"text-align: right;\">\n",
              "      <th></th>\n",
              "      <th>thickness 1</th>\n",
              "      <th>thickness 2</th>\n",
              "      <th>thickness 3</th>\n",
              "    </tr>\n",
              "  </thead>\n",
              "  <tbody>\n",
              "    <tr>\n",
              "      <th>count</th>\n",
              "      <td>174.000000</td>\n",
              "      <td>174.000000</td>\n",
              "      <td>174.000000</td>\n",
              "    </tr>\n",
              "    <tr>\n",
              "      <th>mean</th>\n",
              "      <td>11.988506</td>\n",
              "      <td>17.356322</td>\n",
              "      <td>6.890805</td>\n",
              "    </tr>\n",
              "    <tr>\n",
              "      <th>std</th>\n",
              "      <td>7.924491</td>\n",
              "      <td>12.919920</td>\n",
              "      <td>10.229993</td>\n",
              "    </tr>\n",
              "    <tr>\n",
              "      <th>min</th>\n",
              "      <td>0.000000</td>\n",
              "      <td>0.000000</td>\n",
              "      <td>0.000000</td>\n",
              "    </tr>\n",
              "    <tr>\n",
              "      <th>25%</th>\n",
              "      <td>6.000000</td>\n",
              "      <td>8.000000</td>\n",
              "      <td>0.000000</td>\n",
              "    </tr>\n",
              "    <tr>\n",
              "      <th>50%</th>\n",
              "      <td>11.000000</td>\n",
              "      <td>16.000000</td>\n",
              "      <td>1.000000</td>\n",
              "    </tr>\n",
              "    <tr>\n",
              "      <th>75%</th>\n",
              "      <td>18.000000</td>\n",
              "      <td>25.750000</td>\n",
              "      <td>11.000000</td>\n",
              "    </tr>\n",
              "    <tr>\n",
              "      <th>max</th>\n",
              "      <td>34.000000</td>\n",
              "      <td>51.000000</td>\n",
              "      <td>59.000000</td>\n",
              "    </tr>\n",
              "  </tbody>\n",
              "</table>\n",
              "</div>"
            ],
            "text/plain": [
              "       thickness 1  thickness 2  thickness 3\n",
              "count   174.000000   174.000000   174.000000\n",
              "mean     11.988506    17.356322     6.890805\n",
              "std       7.924491    12.919920    10.229993\n",
              "min       0.000000     0.000000     0.000000\n",
              "25%       6.000000     8.000000     0.000000\n",
              "50%      11.000000    16.000000     1.000000\n",
              "75%      18.000000    25.750000    11.000000\n",
              "max      34.000000    51.000000    59.000000"
            ]
          },
          "metadata": {
            "tags": []
          },
          "execution_count": 32
        }
      ]
    },
    {
      "cell_type": "code",
      "metadata": {
        "id": "bH0Uux6H0Wqu",
        "colab_type": "code",
        "colab": {
          "base_uri": "https://localhost:8080/",
          "height": 297
        },
        "outputId": "d0344b2b-338e-4fc7-a3b8-ef2ca907eea7"
      },
      "source": [
        "da[da['shift type']=='E'].describe()"
      ],
      "execution_count": 33,
      "outputs": [
        {
          "output_type": "execute_result",
          "data": {
            "text/html": [
              "<div>\n",
              "<style scoped>\n",
              "    .dataframe tbody tr th:only-of-type {\n",
              "        vertical-align: middle;\n",
              "    }\n",
              "\n",
              "    .dataframe tbody tr th {\n",
              "        vertical-align: top;\n",
              "    }\n",
              "\n",
              "    .dataframe thead th {\n",
              "        text-align: right;\n",
              "    }\n",
              "</style>\n",
              "<table border=\"1\" class=\"dataframe\">\n",
              "  <thead>\n",
              "    <tr style=\"text-align: right;\">\n",
              "      <th></th>\n",
              "      <th>thickness 1</th>\n",
              "      <th>thickness 2</th>\n",
              "      <th>thickness 3</th>\n",
              "    </tr>\n",
              "  </thead>\n",
              "  <tbody>\n",
              "    <tr>\n",
              "      <th>count</th>\n",
              "      <td>156.000000</td>\n",
              "      <td>156.000000</td>\n",
              "      <td>156.000000</td>\n",
              "    </tr>\n",
              "    <tr>\n",
              "      <th>mean</th>\n",
              "      <td>11.429487</td>\n",
              "      <td>18.756410</td>\n",
              "      <td>5.551282</td>\n",
              "    </tr>\n",
              "    <tr>\n",
              "      <th>std</th>\n",
              "      <td>7.623488</td>\n",
              "      <td>10.796279</td>\n",
              "      <td>9.160430</td>\n",
              "    </tr>\n",
              "    <tr>\n",
              "      <th>min</th>\n",
              "      <td>0.000000</td>\n",
              "      <td>0.000000</td>\n",
              "      <td>0.000000</td>\n",
              "    </tr>\n",
              "    <tr>\n",
              "      <th>25%</th>\n",
              "      <td>6.000000</td>\n",
              "      <td>10.750000</td>\n",
              "      <td>0.000000</td>\n",
              "    </tr>\n",
              "    <tr>\n",
              "      <th>50%</th>\n",
              "      <td>11.000000</td>\n",
              "      <td>18.000000</td>\n",
              "      <td>0.000000</td>\n",
              "    </tr>\n",
              "    <tr>\n",
              "      <th>75%</th>\n",
              "      <td>17.000000</td>\n",
              "      <td>26.000000</td>\n",
              "      <td>7.000000</td>\n",
              "    </tr>\n",
              "    <tr>\n",
              "      <th>max</th>\n",
              "      <td>37.000000</td>\n",
              "      <td>53.000000</td>\n",
              "      <td>42.000000</td>\n",
              "    </tr>\n",
              "  </tbody>\n",
              "</table>\n",
              "</div>"
            ],
            "text/plain": [
              "       thickness 1  thickness 2  thickness 3\n",
              "count   156.000000   156.000000   156.000000\n",
              "mean     11.429487    18.756410     5.551282\n",
              "std       7.623488    10.796279     9.160430\n",
              "min       0.000000     0.000000     0.000000\n",
              "25%       6.000000    10.750000     0.000000\n",
              "50%      11.000000    18.000000     0.000000\n",
              "75%      17.000000    26.000000     7.000000\n",
              "max      37.000000    53.000000    42.000000"
            ]
          },
          "metadata": {
            "tags": []
          },
          "execution_count": 33
        }
      ]
    }
  ]
}