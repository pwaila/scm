{
  "nbformat": 4,
  "nbformat_minor": 0,
  "metadata": {
    "colab": {
      "name": "product_data_outliar_analysis_scm.ipynb",
      "version": "0.3.2",
      "provenance": [],
      "collapsed_sections": [],
      "include_colab_link": true
    },
    "kernelspec": {
      "name": "python3",
      "display_name": "Python 3"
    }
  },
  "cells": [
    {
      "cell_type": "markdown",
      "metadata": {
        "id": "view-in-github",
        "colab_type": "text"
      },
      "source": [
        "<a href=\"https://colab.research.google.com/github/pwaila/scm/blob/master/product_data_outliar_analysis_scm.ipynb\" target=\"_parent\"><img src=\"https://colab.research.google.com/assets/colab-badge.svg\" alt=\"Open In Colab\"/></a>"
      ]
    },
    {
      "cell_type": "code",
      "metadata": {
        "id": "_PcxoRKrD3tz",
        "colab_type": "code",
        "colab": {}
      },
      "source": [
        "import pandas as pd\n"
      ],
      "execution_count": 0,
      "outputs": []
    },
    {
      "cell_type": "code",
      "metadata": {
        "id": "FD8g6k8KGHPq",
        "colab_type": "code",
        "outputId": "339c56f1-7a03-4767-8878-c3002d15369f",
        "colab": {
          "base_uri": "https://localhost:8080/",
          "height": 122
        }
      },
      "source": [
        "from google.colab import drive\n",
        "drive.mount('/content/gdrive')"
      ],
      "execution_count": 3,
      "outputs": [
        {
          "output_type": "stream",
          "text": [
            "Go to this URL in a browser: https://accounts.google.com/o/oauth2/auth?client_id=947318989803-6bn6qk8qdgf4n4g3pfee6491hc0brc4i.apps.googleusercontent.com&redirect_uri=urn%3Aietf%3Awg%3Aoauth%3A2.0%3Aoob&scope=email%20https%3A%2F%2Fwww.googleapis.com%2Fauth%2Fdocs.test%20https%3A%2F%2Fwww.googleapis.com%2Fauth%2Fdrive%20https%3A%2F%2Fwww.googleapis.com%2Fauth%2Fdrive.photos.readonly%20https%3A%2F%2Fwww.googleapis.com%2Fauth%2Fpeopleapi.readonly&response_type=code\n",
            "\n",
            "Enter your authorization code:\n",
            "··········\n",
            "Mounted at /content/gdrive\n"
          ],
          "name": "stdout"
        }
      ]
    },
    {
      "cell_type": "code",
      "metadata": {
        "id": "ziQxOKU0EijX",
        "colab_type": "code",
        "colab": {}
      },
      "source": [
        "data=pd.read_excel(\"gdrive/My Drive/Supply chain/product_data.xlsx\")"
      ],
      "execution_count": 0,
      "outputs": []
    },
    {
      "cell_type": "code",
      "metadata": {
        "id": "34pme7vMIdK0",
        "colab_type": "code",
        "outputId": "2915ec3a-a424-494d-b88f-56f666436b58",
        "colab": {
          "base_uri": "https://localhost:8080/",
          "height": 204
        }
      },
      "source": [
        "data.head()"
      ],
      "execution_count": 5,
      "outputs": [
        {
          "output_type": "execute_result",
          "data": {
            "text/html": [
              "<div>\n",
              "<style scoped>\n",
              "    .dataframe tbody tr th:only-of-type {\n",
              "        vertical-align: middle;\n",
              "    }\n",
              "\n",
              "    .dataframe tbody tr th {\n",
              "        vertical-align: top;\n",
              "    }\n",
              "\n",
              "    .dataframe thead th {\n",
              "        text-align: right;\n",
              "    }\n",
              "</style>\n",
              "<table border=\"1\" class=\"dataframe\">\n",
              "  <thead>\n",
              "    <tr style=\"text-align: right;\">\n",
              "      <th></th>\n",
              "      <th>Customer</th>\n",
              "      <th>Day</th>\n",
              "      <th>Browser</th>\n",
              "      <th>Time (min)</th>\n",
              "      <th>Pages Viewed</th>\n",
              "      <th>Amount Spent ($)</th>\n",
              "    </tr>\n",
              "  </thead>\n",
              "  <tbody>\n",
              "    <tr>\n",
              "      <th>0</th>\n",
              "      <td>1</td>\n",
              "      <td>Mon</td>\n",
              "      <td>Internet Explorer</td>\n",
              "      <td>12.0</td>\n",
              "      <td>4</td>\n",
              "      <td>54.52</td>\n",
              "    </tr>\n",
              "    <tr>\n",
              "      <th>1</th>\n",
              "      <td>2</td>\n",
              "      <td>Wed</td>\n",
              "      <td>Other</td>\n",
              "      <td>19.5</td>\n",
              "      <td>6</td>\n",
              "      <td>94.90</td>\n",
              "    </tr>\n",
              "    <tr>\n",
              "      <th>2</th>\n",
              "      <td>3</td>\n",
              "      <td>Mon</td>\n",
              "      <td>Internet Explorer</td>\n",
              "      <td>8.5</td>\n",
              "      <td>4</td>\n",
              "      <td>26.68</td>\n",
              "    </tr>\n",
              "    <tr>\n",
              "      <th>3</th>\n",
              "      <td>4</td>\n",
              "      <td>Tue</td>\n",
              "      <td>Firefox</td>\n",
              "      <td>11.4</td>\n",
              "      <td>2</td>\n",
              "      <td>44.73</td>\n",
              "    </tr>\n",
              "    <tr>\n",
              "      <th>4</th>\n",
              "      <td>5</td>\n",
              "      <td>Wed</td>\n",
              "      <td>Internet Explorer</td>\n",
              "      <td>11.3</td>\n",
              "      <td>4</td>\n",
              "      <td>66.27</td>\n",
              "    </tr>\n",
              "  </tbody>\n",
              "</table>\n",
              "</div>"
            ],
            "text/plain": [
              "   Customer  Day            Browser  Time (min)  Pages Viewed  Amount Spent ($)\n",
              "0         1  Mon  Internet Explorer        12.0             4             54.52\n",
              "1         2  Wed              Other        19.5             6             94.90\n",
              "2         3  Mon  Internet Explorer         8.5             4             26.68\n",
              "3         4  Tue            Firefox        11.4             2             44.73\n",
              "4         5  Wed  Internet Explorer        11.3             4             66.27"
            ]
          },
          "metadata": {
            "tags": []
          },
          "execution_count": 5
        }
      ]
    },
    {
      "cell_type": "markdown",
      "metadata": {
        "id": "tyOk2INKM7d-",
        "colab_type": "text"
      },
      "source": [
        "first quantile"
      ]
    },
    {
      "cell_type": "code",
      "metadata": {
        "id": "ww0scF-zIpMK",
        "colab_type": "code",
        "colab": {}
      },
      "source": [
        "q1=data['Amount Spent ($)'].quantile(.25) "
      ],
      "execution_count": 0,
      "outputs": []
    },
    {
      "cell_type": "markdown",
      "metadata": {
        "id": "uQENLXRlNDRr",
        "colab_type": "text"
      },
      "source": [
        "second quantile"
      ]
    },
    {
      "cell_type": "code",
      "metadata": {
        "id": "s37pbLYhJKv_",
        "colab_type": "code",
        "colab": {}
      },
      "source": [
        "q2=data['Amount Spent ($)'].quantile(.5) "
      ],
      "execution_count": 0,
      "outputs": []
    },
    {
      "cell_type": "markdown",
      "metadata": {
        "id": "Hnw9SHl8NIZK",
        "colab_type": "text"
      },
      "source": [
        "third quantile"
      ]
    },
    {
      "cell_type": "code",
      "metadata": {
        "id": "M0kkZqRCJLE3",
        "colab_type": "code",
        "colab": {}
      },
      "source": [
        "q3=data['Amount Spent ($)'].quantile(.75) "
      ],
      "execution_count": 0,
      "outputs": []
    },
    {
      "cell_type": "markdown",
      "metadata": {
        "id": "52cFKhuhNKP_",
        "colab_type": "text"
      },
      "source": [
        "interquantile difference"
      ]
    },
    {
      "cell_type": "code",
      "metadata": {
        "id": "TQS14jCLJX4e",
        "colab_type": "code",
        "outputId": "f988f812-14f2-4f2e-ea99-c074b6fdc4ae",
        "colab": {
          "base_uri": "https://localhost:8080/",
          "height": 34
        }
      },
      "source": [
        "q3-q1"
      ],
      "execution_count": 9,
      "outputs": [
        {
          "output_type": "execute_result",
          "data": {
            "text/plain": [
              "31.9825"
            ]
          },
          "metadata": {
            "tags": []
          },
          "execution_count": 9
        }
      ]
    },
    {
      "cell_type": "markdown",
      "metadata": {
        "id": "30OnfaCqNNmE",
        "colab_type": "text"
      },
      "source": [
        "lower limit"
      ]
    },
    {
      "cell_type": "code",
      "metadata": {
        "id": "tom69SttJtdp",
        "colab_type": "code",
        "outputId": "8fff91f1-745f-4c54-fc17-902a26e82653",
        "colab": {
          "base_uri": "https://localhost:8080/",
          "height": 34
        }
      },
      "source": [
        "lowerLimit =q1-(1.5*(q3-q1))\n",
        "lowerLimit"
      ],
      "execution_count": 10,
      "outputs": [
        {
          "output_type": "execute_result",
          "data": {
            "text/plain": [
              "-2.4137500000000003"
            ]
          },
          "metadata": {
            "tags": []
          },
          "execution_count": 10
        }
      ]
    },
    {
      "cell_type": "markdown",
      "metadata": {
        "id": "9Yfi_xNUNPcs",
        "colab_type": "text"
      },
      "source": [
        "upper limit"
      ]
    },
    {
      "cell_type": "code",
      "metadata": {
        "id": "G4mFM8BKJ6iL",
        "colab_type": "code",
        "outputId": "2e10dc45-3034-49b2-a676-0c5387024b02",
        "colab": {
          "base_uri": "https://localhost:8080/",
          "height": 34
        }
      },
      "source": [
        "upperLimit =q3+(1.5*(q3-q1))\n",
        "upperLimit"
      ],
      "execution_count": 11,
      "outputs": [
        {
          "output_type": "execute_result",
          "data": {
            "text/plain": [
              "125.51625000000001"
            ]
          },
          "metadata": {
            "tags": []
          },
          "execution_count": 11
        }
      ]
    },
    {
      "cell_type": "markdown",
      "metadata": {
        "id": "p2Xrr1NQNRI6",
        "colab_type": "text"
      },
      "source": [
        "find outlier"
      ]
    },
    {
      "cell_type": "code",
      "metadata": {
        "id": "E_b7ZMNxKLd-",
        "colab_type": "code",
        "outputId": "30a547d8-4830-4353-f5e9-f6be53029f22",
        "colab": {
          "base_uri": "https://localhost:8080/",
          "height": 34
        }
      },
      "source": [
        "  [x for x in data['Amount Spent ($)'] if ((x > upperLimit) or (x<lowerLimit))]"
      ],
      "execution_count": 12,
      "outputs": [
        {
          "output_type": "execute_result",
          "data": {
            "text/plain": [
              "[158.51, 126.4, 155.3]"
            ]
          },
          "metadata": {
            "tags": []
          },
          "execution_count": 12
        }
      ]
    },
    {
      "cell_type": "markdown",
      "metadata": {
        "id": "Y4BeMx_lNTw1",
        "colab_type": "text"
      },
      "source": [
        "minimum values"
      ]
    },
    {
      "cell_type": "code",
      "metadata": {
        "id": "32nOGr_bLJV4",
        "colab_type": "code",
        "outputId": "793a3a57-5e2c-4ca0-9871-9f393d8ff4f4",
        "colab": {
          "base_uri": "https://localhost:8080/",
          "height": 34
        }
      },
      "source": [
        "data['Amount Spent ($)'].min()"
      ],
      "execution_count": 13,
      "outputs": [
        {
          "output_type": "execute_result",
          "data": {
            "text/plain": [
              "26.68"
            ]
          },
          "metadata": {
            "tags": []
          },
          "execution_count": 13
        }
      ]
    },
    {
      "cell_type": "markdown",
      "metadata": {
        "id": "MhtmjSfNNWF_",
        "colab_type": "text"
      },
      "source": [
        "maximum value"
      ]
    },
    {
      "cell_type": "code",
      "metadata": {
        "id": "-p9-u4LNLRwA",
        "colab_type": "code",
        "outputId": "778537d8-e57d-43ef-d69d-95b23a8d68cf",
        "colab": {
          "base_uri": "https://localhost:8080/",
          "height": 34
        }
      },
      "source": [
        "data['Amount Spent ($)'].max()"
      ],
      "execution_count": 14,
      "outputs": [
        {
          "output_type": "execute_result",
          "data": {
            "text/plain": [
              "158.51"
            ]
          },
          "metadata": {
            "tags": []
          },
          "execution_count": 14
        }
      ]
    },
    {
      "cell_type": "markdown",
      "metadata": {
        "id": "_SYyNL6POtZb",
        "colab_type": "text"
      },
      "source": [
        "Correlation"
      ]
    },
    {
      "cell_type": "code",
      "metadata": {
        "id": "c4XPM-fQNevY",
        "colab_type": "code",
        "colab": {
          "base_uri": "https://localhost:8080/",
          "height": 173
        },
        "outputId": "cea04bc4-c4f8-40b5-d81a-dfd7a15fa790"
      },
      "source": [
        "cor=data.corr(method ='pearson')\n",
        "cor"
      ],
      "execution_count": 21,
      "outputs": [
        {
          "output_type": "execute_result",
          "data": {
            "text/html": [
              "<div>\n",
              "<style scoped>\n",
              "    .dataframe tbody tr th:only-of-type {\n",
              "        vertical-align: middle;\n",
              "    }\n",
              "\n",
              "    .dataframe tbody tr th {\n",
              "        vertical-align: top;\n",
              "    }\n",
              "\n",
              "    .dataframe thead th {\n",
              "        text-align: right;\n",
              "    }\n",
              "</style>\n",
              "<table border=\"1\" class=\"dataframe\">\n",
              "  <thead>\n",
              "    <tr style=\"text-align: right;\">\n",
              "      <th></th>\n",
              "      <th>Customer</th>\n",
              "      <th>Time (min)</th>\n",
              "      <th>Pages Viewed</th>\n",
              "      <th>Amount Spent ($)</th>\n",
              "    </tr>\n",
              "  </thead>\n",
              "  <tbody>\n",
              "    <tr>\n",
              "      <th>Customer</th>\n",
              "      <td>1.000000</td>\n",
              "      <td>0.072266</td>\n",
              "      <td>0.149790</td>\n",
              "      <td>0.147890</td>\n",
              "    </tr>\n",
              "    <tr>\n",
              "      <th>Time (min)</th>\n",
              "      <td>0.072266</td>\n",
              "      <td>1.000000</td>\n",
              "      <td>0.656056</td>\n",
              "      <td>0.627613</td>\n",
              "    </tr>\n",
              "    <tr>\n",
              "      <th>Pages Viewed</th>\n",
              "      <td>0.149790</td>\n",
              "      <td>0.656056</td>\n",
              "      <td>1.000000</td>\n",
              "      <td>0.775453</td>\n",
              "    </tr>\n",
              "    <tr>\n",
              "      <th>Amount Spent ($)</th>\n",
              "      <td>0.147890</td>\n",
              "      <td>0.627613</td>\n",
              "      <td>0.775453</td>\n",
              "      <td>1.000000</td>\n",
              "    </tr>\n",
              "  </tbody>\n",
              "</table>\n",
              "</div>"
            ],
            "text/plain": [
              "                  Customer  Time (min)  Pages Viewed  Amount Spent ($)\n",
              "Customer          1.000000    0.072266      0.149790          0.147890\n",
              "Time (min)        0.072266    1.000000      0.656056          0.627613\n",
              "Pages Viewed      0.149790    0.656056      1.000000          0.775453\n",
              "Amount Spent ($)  0.147890    0.627613      0.775453          1.000000"
            ]
          },
          "metadata": {
            "tags": []
          },
          "execution_count": 21
        }
      ]
    },
    {
      "cell_type": "markdown",
      "metadata": {
        "id": "A0Dkk91iRJsr",
        "colab_type": "text"
      },
      "source": [
        "ploting heatmap for correlation"
      ]
    },
    {
      "cell_type": "code",
      "metadata": {
        "id": "sEpJGsJHQWpB",
        "colab_type": "code",
        "colab": {
          "base_uri": "https://localhost:8080/",
          "height": 564
        },
        "outputId": "4872c4d7-d44c-437b-c601-fa79b7aa304c"
      },
      "source": [
        "import seaborn as sns\n",
        "import matplotlib.pyplot as plt\n",
        "import numpy as np \n",
        "\n",
        "# Generate a mask for the upper triangle\n",
        "mask = np.zeros_like(cor, dtype=np.bool)\n",
        "mask[np.triu_indices_from(mask)] = True\n",
        "\n",
        "# Set up the matplotlib figure\n",
        "f, ax = plt.subplots(figsize=(11, 9))\n",
        "\n",
        "\n",
        "cmap = sns.diverging_palette(220, 10, as_cmap=True)\n",
        "\n",
        "# Draw the heatmap with the mask and correct aspect ratio\n",
        "sns.heatmap(cor, mask=mask, cmap=cmap, vmax=.3, center=0,\n",
        "            square=True, linewidths=.5, cbar_kws={\"shrink\": .5})"
      ],
      "execution_count": 24,
      "outputs": [
        {
          "output_type": "execute_result",
          "data": {
            "text/plain": [
              "<matplotlib.axes._subplots.AxesSubplot at 0x7f33cb8e5ef0>"
            ]
          },
          "metadata": {
            "tags": []
          },
          "execution_count": 24
        },
        {
          "output_type": "display_data",
          "data": {
            "image/png": "[encoded data removed]",
            "text/plain": [
              "<Figure size 792x648 with 2 Axes>"
            ]
          },
          "metadata": {
            "tags": []
          }
        }
      ]
    },
    {
      "cell_type": "markdown",
      "metadata": {
        "id": "NgIopdgfQJhZ",
        "colab_type": "text"
      },
      "source": [
        "calculating skewness"
      ]
    },
    {
      "cell_type": "code",
      "metadata": {
        "id": "74HXBNHGMiyK",
        "colab_type": "code",
        "colab": {
          "base_uri": "https://localhost:8080/",
          "height": 34
        },
        "outputId": "4fe0e330-85bd-430a-c8c0-bfbdecdcc676"
      },
      "source": [
        "data['Amount Spent ($)'].skew()"
      ],
      "execution_count": 17,
      "outputs": [
        {
          "output_type": "execute_result",
          "data": {
            "text/plain": [
              "1.2905072374090052"
            ]
          },
          "metadata": {
            "tags": []
          },
          "execution_count": 17
        }
      ]
    },
    {
      "cell_type": "markdown",
      "metadata": {
        "id": "LdiJAqGWQM5Y",
        "colab_type": "text"
      },
      "source": [
        "calculating kurtosis"
      ]
    },
    {
      "cell_type": "code",
      "metadata": {
        "id": "mzOIkAVMQCFB",
        "colab_type": "code",
        "colab": {
          "base_uri": "https://localhost:8080/",
          "height": 34
        },
        "outputId": "d9220ce4-8de0-4114-e998-6acf5487924f"
      },
      "source": [
        "data['Amount Spent ($)'].kurtosis()"
      ],
      "execution_count": 18,
      "outputs": [
        {
          "output_type": "execute_result",
          "data": {
            "text/plain": [
              "1.3821052641210305"
            ]
          },
          "metadata": {
            "tags": []
          },
          "execution_count": 18
        }
      ]
    }
  ]
}